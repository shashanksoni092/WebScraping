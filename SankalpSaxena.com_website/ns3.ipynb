{
 "cells": [
  {
   "cell_type": "code",
   "execution_count": 1,
   "metadata": {},
   "outputs": [],
   "source": [
    "from bs4 import BeautifulSoup\n",
    "import urllib"
   ]
  },
  {
   "cell_type": "code",
   "execution_count": 2,
   "metadata": {},
   "outputs": [],
   "source": [
    "html=urllib.request.urlopen(\"http://sankalpsaxena.com/ns3/\")"
   ]
  },
  {
   "cell_type": "code",
   "execution_count": 3,
   "metadata": {},
   "outputs": [],
   "source": [
    "soup=html.read()"
   ]
  },
  {
   "cell_type": "code",
   "execution_count": 4,
   "metadata": {},
   "outputs": [
    {
     "data": {
      "text/plain": [
       "b'/*\\n1. Implement three nodes point \\xe2\\x80\\x93 to \\xe2\\x80\\x93 point network with duplex links between them.\\nSet the queue size, vary the bandwidth and find the number of packets dropped.\\n*/\\n\\n#include \"ns3/core-module.h\"\\n#include \"ns3/network-module.h\"\\n#include \"ns3/internet-module.h\"\\n#include \"ns3/point-to-point-module.h\"\\n#include \"ns3/applications-module.h\"\\n\\n// Network topology\\n//\\n//       10.1.1.0       10.1.2.0\\n// n0 -------------- n1..........n2\\n//    point-to-point\\n//\\n\\nusing namespace ns3;\\n\\nNS_LOG_COMPONENT_DEFINE(\"P2P-LAB1\");\\n\\nint main(int argc, char *argv[])\\n{\\n    std::string socketType = \"ns3::TcpSocketFactory\";\\n\\n    CommandLine cmd;\\n    cmd.Parse(argc, argv);\\n\\n    NodeContainer nodes;\\n    nodes.Create(3);\\n\\n    InternetStackHelper stack;\\n    stack.Install(nodes);\\n\\n    PointToPointHelper p2p1;\\n    p2p1.SetDeviceAttribute(\"DataRate\", StringValue(\"5Mbps\"));\\n    p2p1.SetChannelAttribute(\"Delay\", StringValue(\"1ms\"));\\n\\n    Ipv4AddressHelper address;\\n    address.SetBase(\"10.1.1.0\", \"255.255.255.0\");\\n\\n    NetDeviceContainer devices;\\n    devices = p2p1.Install(nodes.Get(0), nodes.Get(1));\\n    Ipv4InterfaceContainer interfaces = address.Assign(devices);\\n\\n    devices = p2p1.Install(nodes.Get(1), nodes.Get(2));\\n    address.SetBase(\"10.1.2.0\", \"255.255.255.0\");\\n    interfaces = address.Assign(devices);\\n\\n    Ptr<RateErrorModel> em = CreateObject<RateErrorModel>();\\n\\n    //Introduce error model to drop packets\\n    em->SetAttribute(\"ErrorRate\", DoubleValue(0.00002));\\n    devices.Get(1)->SetAttribute(\"ReceiveErrorModel\", PointerValue(em));\\n\\n    Ipv4GlobalRoutingHelper::PopulateRoutingTables();\\n\\n    uint32_t payloadSize = 1448;\\n    OnOffHelper onoff(socketType, Ipv4Address::GetAny());\\n\\n    //Generate traffic\\n    onoff.SetAttribute(\"OnTime\", StringValue(\"ns3::ConstantRandomVariable[Constant=1]\"));\\n\\n    onoff.SetAttribute(\"OffTime\", StringValue(\"ns3::ConstantRandomVariable[Constant=0]\"));\\n\\n    onoff.SetAttribute(\"PacketSize\", UintegerValue(payloadSize));\\n\\n    onoff.SetAttribute(\"DataRate\", StringValue(\"50Mbps\")); //bit/s\\n\\n    uint16_t port = 7;\\n\\n    //1. Install receiver (for packetsink) on node 2\\n    Address localAddress1(InetSocketAddress(Ipv4Address::GetAny(), port));\\n    PacketSinkHelper packetSinkHelper1(socketType, localAddress1);\\n    ApplicationContainer sinkApp1 = packetSinkHelper1.Install(nodes.Get(2));\\n    sinkApp1.Start(Seconds(0.0));\\n    sinkApp1.Stop(Seconds(10));\\n\\n    //2. Install sender app on node 0\\n    ApplicationContainer apps;\\n    AddressValue remoteAddress(InetSocketAddress(interfaces.GetAddress(1), port));\\n    onoff.SetAttribute(\"Remote\", remoteAddress);\\n    apps.Add(onoff.Install(nodes.Get(0)));\\n    apps.Start(Seconds(1.0));\\n    apps.Stop(Seconds(10));\\n\\n    Simulator::Stop(Seconds(10));\\n\\n    //Generate trace file\\n    AsciiTraceHelper ascii;\\n    p2p1.EnableAsciiAll(ascii.CreateFileStream(\"P2ptracefile.tr\"));\\n\\n    //Run the simulator\\n    Simulator::Run();\\n\\n    Simulator::Destroy();\\n\\n    return 0;\\n}\\n'"
      ]
     },
     "execution_count": 4,
     "metadata": {},
     "output_type": "execute_result"
    }
   ],
   "source": [
    "soup\n"
   ]
  },
  {
   "cell_type": "code",
   "execution_count": 5,
   "metadata": {},
   "outputs": [
    {
     "name": "stderr",
     "output_type": "stream",
     "text": [
      "/home/shashanksoni092/dsnew/anaconda3/lib/python3.6/site-packages/bs4/__init__.py:181: UserWarning: No parser was explicitly specified, so I'm using the best available HTML parser for this system (\"lxml\"). This usually isn't a problem, but if you run this code on another system, or in a different virtual environment, it may use a different parser and behave differently.\n",
      "\n",
      "The code that caused this warning is on line 193 of the file /home/shashanksoni092/dsnew/anaconda3/lib/python3.6/runpy.py. To get rid of this warning, change code that looks like this:\n",
      "\n",
      " BeautifulSoup(YOUR_MARKUP})\n",
      "\n",
      "to this:\n",
      "\n",
      " BeautifulSoup(YOUR_MARKUP, \"lxml\")\n",
      "\n",
      "  markup_type=markup_type))\n"
     ]
    }
   ],
   "source": [
    "beauty=BeautifulSoup(soup)"
   ]
  },
  {
   "cell_type": "code",
   "execution_count": 6,
   "metadata": {
    "scrolled": true
   },
   "outputs": [
    {
     "data": {
      "text/plain": [
       "<html><body><p>/*\n",
       "1. Implement three nodes point – to – point network with duplex links between them.\n",
       "Set the queue size, vary the bandwidth and find the number of packets dropped.\n",
       "*/\n",
       "\n",
       "#include \"ns3/core-module.h\"\n",
       "#include \"ns3/network-module.h\"\n",
       "#include \"ns3/internet-module.h\"\n",
       "#include \"ns3/point-to-point-module.h\"\n",
       "#include \"ns3/applications-module.h\"\n",
       "\n",
       "// Network topology\n",
       "//\n",
       "//       10.1.1.0       10.1.2.0\n",
       "// n0 -------------- n1..........n2\n",
       "//    point-to-point\n",
       "//\n",
       "\n",
       "using namespace ns3;\n",
       "\n",
       "NS_LOG_COMPONENT_DEFINE(\"P2P-LAB1\");\n",
       "\n",
       "int main(int argc, char *argv[])\n",
       "{\n",
       "    std::string socketType = \"ns3::TcpSocketFactory\";\n",
       "\n",
       "    CommandLine cmd;\n",
       "    cmd.Parse(argc, argv);\n",
       "\n",
       "    NodeContainer nodes;\n",
       "    nodes.Create(3);\n",
       "\n",
       "    InternetStackHelper stack;\n",
       "    stack.Install(nodes);\n",
       "\n",
       "    PointToPointHelper p2p1;\n",
       "    p2p1.SetDeviceAttribute(\"DataRate\", StringValue(\"5Mbps\"));\n",
       "    p2p1.SetChannelAttribute(\"Delay\", StringValue(\"1ms\"));\n",
       "\n",
       "    Ipv4AddressHelper address;\n",
       "    address.SetBase(\"10.1.1.0\", \"255.255.255.0\");\n",
       "\n",
       "    NetDeviceContainer devices;\n",
       "    devices = p2p1.Install(nodes.Get(0), nodes.Get(1));\n",
       "    Ipv4InterfaceContainer interfaces = address.Assign(devices);\n",
       "\n",
       "    devices = p2p1.Install(nodes.Get(1), nodes.Get(2));\n",
       "    address.SetBase(\"10.1.2.0\", \"255.255.255.0\");\n",
       "    interfaces = address.Assign(devices);\n",
       "\n",
       "    Ptr<rateerrormodel> em = CreateObject<rateerrormodel>();\n",
       "\n",
       "    //Introduce error model to drop packets\n",
       "    em-&gt;SetAttribute(\"ErrorRate\", DoubleValue(0.00002));\n",
       "    devices.Get(1)-&gt;SetAttribute(\"ReceiveErrorModel\", PointerValue(em));\n",
       "\n",
       "    Ipv4GlobalRoutingHelper::PopulateRoutingTables();\n",
       "\n",
       "    uint32_t payloadSize = 1448;\n",
       "    OnOffHelper onoff(socketType, Ipv4Address::GetAny());\n",
       "\n",
       "    //Generate traffic\n",
       "    onoff.SetAttribute(\"OnTime\", StringValue(\"ns3::ConstantRandomVariable[Constant=1]\"));\n",
       "\n",
       "    onoff.SetAttribute(\"OffTime\", StringValue(\"ns3::ConstantRandomVariable[Constant=0]\"));\n",
       "\n",
       "    onoff.SetAttribute(\"PacketSize\", UintegerValue(payloadSize));\n",
       "\n",
       "    onoff.SetAttribute(\"DataRate\", StringValue(\"50Mbps\")); //bit/s\n",
       "\n",
       "    uint16_t port = 7;\n",
       "\n",
       "    //1. Install receiver (for packetsink) on node 2\n",
       "    Address localAddress1(InetSocketAddress(Ipv4Address::GetAny(), port));\n",
       "    PacketSinkHelper packetSinkHelper1(socketType, localAddress1);\n",
       "    ApplicationContainer sinkApp1 = packetSinkHelper1.Install(nodes.Get(2));\n",
       "    sinkApp1.Start(Seconds(0.0));\n",
       "    sinkApp1.Stop(Seconds(10));\n",
       "\n",
       "    //2. Install sender app on node 0\n",
       "    ApplicationContainer apps;\n",
       "    AddressValue remoteAddress(InetSocketAddress(interfaces.GetAddress(1), port));\n",
       "    onoff.SetAttribute(\"Remote\", remoteAddress);\n",
       "    apps.Add(onoff.Install(nodes.Get(0)));\n",
       "    apps.Start(Seconds(1.0));\n",
       "    apps.Stop(Seconds(10));\n",
       "\n",
       "    Simulator::Stop(Seconds(10));\n",
       "\n",
       "    //Generate trace file\n",
       "    AsciiTraceHelper ascii;\n",
       "    p2p1.EnableAsciiAll(ascii.CreateFileStream(\"P2ptracefile.tr\"));\n",
       "\n",
       "    //Run the simulator\n",
       "    Simulator::Run();\n",
       "\n",
       "    Simulator::Destroy();\n",
       "\n",
       "    return 0;\n",
       "}\n",
       "</rateerrormodel></rateerrormodel></p></body></html>"
      ]
     },
     "execution_count": 6,
     "metadata": {},
     "output_type": "execute_result"
    }
   ],
   "source": [
    "beauty"
   ]
  },
  {
   "cell_type": "code",
   "execution_count": null,
   "metadata": {},
   "outputs": [],
   "source": [
    "find_body=beauty.find_all('body')\n",
    "print(find_body)\n",
    "type(find_body)\n"
   ]
  },
  {
   "cell_type": "code",
   "execution_count": null,
   "metadata": {},
   "outputs": [],
   "source": [
    "find_p=beauty.find_all('p')\n",
    "print(find_p[0].get_text)\n",
    "\n",
    "help(find_p.)\n",
    "\n"
   ]
  }
 ],
 "metadata": {
  "kernelspec": {
   "display_name": "Python 3",
   "language": "python",
   "name": "python3"
  },
  "language_info": {
   "codemirror_mode": {
    "name": "ipython",
    "version": 3
   },
   "file_extension": ".py",
   "mimetype": "text/x-python",
   "name": "python",
   "nbconvert_exporter": "python",
   "pygments_lexer": "ipython3",
   "version": "3.6.5"
  }
 },
 "nbformat": 4,
 "nbformat_minor": 2
}
