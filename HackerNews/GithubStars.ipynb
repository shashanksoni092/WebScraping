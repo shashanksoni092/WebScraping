{
 "cells": [
  {
   "cell_type": "code",
   "execution_count": 27,
   "metadata": {},
   "outputs": [],
   "source": [
    "import requests\n",
    "from bs4 import BeautifulSoup\n",
    "import re\n",
    "session = requests.Session()\n",
    "url = 'https://github.com/{}'\n",
    "username = 'google'\n",
    "r = session.get(url.format(username), params={'page': 1, 'tab':\n",
    "'repositories'})\n",
    "html_soup = BeautifulSoup(r.text, 'html.parser')"
   ]
  },
  {
   "cell_type": "code",
   "execution_count": 28,
   "metadata": {},
   "outputs": [
    {
     "name": "stdout",
     "output_type": "stream",
     "text": [
      "elements-sk JavaScript 5\n",
      "ggrc-core Python 396\n",
      "glog C++ 2605\n",
      "graphicsfuzz Java 202\n",
      "closure-compiler-npm JavaScript 194\n",
      "syzkaller Go 1952\n",
      "jsonnet C++ 1841\n",
      "oboe C++ 1159\n",
      "jax Python 1888\n",
      "go-containerregistry Go 254\n",
      "ExoPlayer Java 11866\n",
      "cadvisor Go 8381\n",
      "built_value.dart Dart 250\n",
      "startup-os Java 224\n",
      "or-tools C++ 3349\n",
      "sling C++ 1587\n",
      "clasp TypeScript 1084\n",
      "flatbuffers C++ 10911\n",
      "go-github Go 4148\n",
      "souper C++ 916\n",
      "upb C 946\n",
      "vim-codefmt Vim script 544\n",
      "gnxi Go 76\n",
      "j2cl Java 181\n",
      "swift None 717\n",
      "cassowary.dart Dart 1\n",
      "cloudprober Go 721\n",
      "coding-with-chrome JavaScript 351\n",
      "j2objc Java 5332\n",
      "filament C++ 5340\n"
     ]
    }
   ],
   "source": [
    "html_soup\n",
    "\n",
    "repos = html_soup.find(class_='repo-list').find_all('li')\n",
    "\n",
    "for repo in repos:\n",
    "    name=repo.find('h3').find('a').get_text(strip='True')\n",
    "    \n",
    "    span_language=repo.find('span',attrs={'itemprop':'programmingLanguage'})\n",
    "    language=span_language.get_text(strip='True') if span_language else None\n",
    "    a_stars=repo.find('a',attrs={'href':re.compile('\\/stargazers')})\n",
    "    stars=int(a_stars.get_text(strip='True').replace(',','')) if a_stars else 0\n",
    "    print(name,language,stars)"
   ]
  },
  {
   "cell_type": "code",
   "execution_count": null,
   "metadata": {},
   "outputs": [],
   "source": []
  }
 ],
 "metadata": {
  "kernelspec": {
   "display_name": "Python 3",
   "language": "python",
   "name": "python3"
  },
  "language_info": {
   "codemirror_mode": {
    "name": "ipython",
    "version": 3
   },
   "file_extension": ".py",
   "mimetype": "text/x-python",
   "name": "python",
   "nbconvert_exporter": "python",
   "pygments_lexer": "ipython3",
   "version": "3.6.5"
  }
 },
 "nbformat": 4,
 "nbformat_minor": 2
}
