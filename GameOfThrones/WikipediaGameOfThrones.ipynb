{
 "cells": [
  {
   "cell_type": "code",
   "execution_count": 1,
   "metadata": {},
   "outputs": [],
   "source": [
    "import requests\n",
    "from bs4 import BeautifulSoup"
   ]
  },
  {
   "cell_type": "code",
   "execution_count": 2,
   "metadata": {},
   "outputs": [],
   "source": [
    "url = 'https://en.wikipedia.org/w/index.php' + \\\n",
    "      '?title=List_of_Game_of_Thrones_episodes&oldid=802553687'\n",
    "r = requests.get(url)\n",
    "html_contents = r.text\n",
    "html_soup = BeautifulSoup(html_contents, 'html.parser')"
   ]
  },
  {
   "cell_type": "code",
   "execution_count": 6,
   "metadata": {},
   "outputs": [],
   "source": [
    "# We'll use a list to store our episode list\n",
    "episodes = []\n",
    "ep_tables = html_soup.find_all('table', class_='wikiepisodetable')\n"
   ]
  },
  {
   "cell_type": "code",
   "execution_count": 18,
   "metadata": {},
   "outputs": [
    {
     "name": "stdout",
     "output_type": "stream",
     "text": [
      "{'No.overall': '1', 'No. inseason': '1', 'Title': '\"Winter Is Coming\"', 'Directed by': 'Tim Van Patten', 'Written by': 'David Benioff & D. B. Weiss', 'Original air date': 'April\\xa017,\\xa02011\\xa0(2011-04-17)', 'U.S. viewers(millions)': '2.22[20]'}\n",
      "{'No.overall': '2', 'No. inseason': '2', 'Title': '\"The Kingsroad\"', 'Directed by': 'Tim Van Patten', 'Written by': 'David Benioff & D. B. Weiss', 'Original air date': 'April\\xa024,\\xa02011\\xa0(2011-04-24)', 'U.S. viewers(millions)': '2.20[21]'}\n",
      "{'No.overall': '3', 'No. inseason': '3', 'Title': '\"Lord Snow\"', 'Directed by': 'Brian Kirk', 'Written by': 'David Benioff & D. B. Weiss', 'Original air date': 'May\\xa01,\\xa02011\\xa0(2011-05-01)', 'U.S. viewers(millions)': '2.44[22]'}\n",
      "{'No.overall': '4', 'No. inseason': '4', 'Title': '\"Cripples, Bastards, and Broken Things\"', 'Directed by': 'Brian Kirk', 'Written by': 'Bryan Cogman', 'Original air date': 'May\\xa08,\\xa02011\\xa0(2011-05-08)', 'U.S. viewers(millions)': '2.45[23]'}\n",
      "{'No.overall': '5', 'No. inseason': '5', 'Title': '\"The Wolf and the Lion\"', 'Directed by': 'Brian Kirk', 'Written by': 'David Benioff & D. B. Weiss', 'Original air date': 'May\\xa015,\\xa02011\\xa0(2011-05-15)', 'U.S. viewers(millions)': '2.58[24]'}\n",
      "{'No.overall': '6', 'No. inseason': '6', 'Title': '\"A Golden Crown\"', 'Directed by': 'Daniel Minahan', 'Written by': 'Story by\\u200a: David Benioff & D. B. Weiss Teleplay by\\u200a: Jane Espenson and David Benioff & D. B. Weiss', 'Original air date': 'May\\xa022,\\xa02011\\xa0(2011-05-22)', 'U.S. viewers(millions)': '2.44[25]'}\n",
      "{'No.overall': '7', 'No. inseason': '7', 'Title': '\"You Win or You Die\"', 'Directed by': 'Daniel Minahan', 'Written by': 'David Benioff & D. B. Weiss', 'Original air date': 'May\\xa029,\\xa02011\\xa0(2011-05-29)', 'U.S. viewers(millions)': '2.40[26]'}\n",
      "{'No.overall': '8', 'No. inseason': '8', 'Title': '\"The Pointy End\"', 'Directed by': 'Daniel Minahan', 'Written by': 'George R. R. Martin', 'Original air date': 'June\\xa05,\\xa02011\\xa0(2011-06-05)', 'U.S. viewers(millions)': '2.72[27]'}\n",
      "{'No.overall': '9', 'No. inseason': '9', 'Title': '\"Baelor\"', 'Directed by': 'Alan Taylor', 'Written by': 'David Benioff & D. B. Weiss', 'Original air date': 'June\\xa012,\\xa02011\\xa0(2011-06-12)', 'U.S. viewers(millions)': '2.66[28]'}\n",
      "{'No.overall': '10', 'No. inseason': '10', 'Title': '\"Fire and Blood\"', 'Directed by': 'Alan Taylor', 'Written by': 'David Benioff & D. B. Weiss', 'Original air date': 'June\\xa019,\\xa02011\\xa0(2011-06-19)', 'U.S. viewers(millions)': '3.04[29]'}\n",
      "{'No.overall': '11', 'No. inseason': '1', 'Title': '\"The North Remembers\"', 'Directed by': 'Alan Taylor', 'Written by': 'David Benioff & D. B. Weiss', 'Original air date': 'April\\xa01,\\xa02012\\xa0(2012-04-01)', 'U.S. viewers(millions)': '3.86[30]'}\n",
      "{'No.overall': '12', 'No. inseason': '2', 'Title': '\"The Night Lands\"', 'Directed by': 'Alan Taylor', 'Written by': 'David Benioff & D. B. Weiss', 'Original air date': 'April\\xa08,\\xa02012\\xa0(2012-04-08)', 'U.S. viewers(millions)': '3.76[31]'}\n",
      "{'No.overall': '13', 'No. inseason': '3', 'Title': '\"What Is Dead May Never Die\"', 'Directed by': 'Alik Sakharov', 'Written by': 'Bryan Cogman', 'Original air date': 'April\\xa015,\\xa02012\\xa0(2012-04-15)', 'U.S. viewers(millions)': '3.77[32]'}\n",
      "{'No.overall': '14', 'No. inseason': '4', 'Title': '\"Garden of Bones\"', 'Directed by': 'David Petrarca', 'Written by': 'Vanessa Taylor', 'Original air date': 'April\\xa022,\\xa02012\\xa0(2012-04-22)', 'U.S. viewers(millions)': '3.65[33]'}\n",
      "{'No.overall': '15', 'No. inseason': '5', 'Title': '\"The Ghost of Harrenhal\"', 'Directed by': 'David Petrarca', 'Written by': 'David Benioff & D. B. Weiss', 'Original air date': 'April\\xa029,\\xa02012\\xa0(2012-04-29)', 'U.S. viewers(millions)': '3.90[34]'}\n",
      "{'No.overall': '16', 'No. inseason': '6', 'Title': '\"The Old Gods and the New\"', 'Directed by': 'David Nutter', 'Written by': 'Vanessa Taylor', 'Original air date': 'May\\xa06,\\xa02012\\xa0(2012-05-06)', 'U.S. viewers(millions)': '3.88[35]'}\n",
      "{'No.overall': '17', 'No. inseason': '7', 'Title': '\"A Man Without Honor\"', 'Directed by': 'David Nutter', 'Written by': 'David Benioff & D. B. Weiss', 'Original air date': 'May\\xa013,\\xa02012\\xa0(2012-05-13)', 'U.S. viewers(millions)': '3.69[36]'}\n",
      "{'No.overall': '18', 'No. inseason': '8', 'Title': '\"The Prince of Winterfell\"', 'Directed by': 'Alan Taylor', 'Written by': 'David Benioff & D. B. Weiss', 'Original air date': 'May\\xa020,\\xa02012\\xa0(2012-05-20)', 'U.S. viewers(millions)': '3.86[37]'}\n",
      "{'No.overall': '19', 'No. inseason': '9', 'Title': '\"Blackwater\"', 'Directed by': 'Neil Marshall', 'Written by': 'George R. R. Martin', 'Original air date': 'May\\xa027,\\xa02012\\xa0(2012-05-27)', 'U.S. viewers(millions)': '3.38[38]'}\n",
      "{'No.overall': '20', 'No. inseason': '10', 'Title': '\"Valar Morghulis\"', 'Directed by': 'Alan Taylor', 'Written by': 'David Benioff & D. B. Weiss', 'Original air date': 'June\\xa03,\\xa02012\\xa0(2012-06-03)', 'U.S. viewers(millions)': '4.20[39]'}\n",
      "{'No.overall': '21', 'No. inseason': '1', 'Title': '\"Valar Dohaeris\"', 'Directed by': 'Daniel Minahan', 'Written by': 'David Benioff & D. B. Weiss', 'Original air date': 'March\\xa031,\\xa02013\\xa0(2013-03-31)', 'U.S. viewers(millions)': '4.37[40]'}\n",
      "{'No.overall': '22', 'No. inseason': '2', 'Title': '\"Dark Wings, Dark Words\"', 'Directed by': 'Daniel Minahan', 'Written by': 'Vanessa Taylor', 'Original air date': 'April\\xa07,\\xa02013\\xa0(2013-04-07)', 'U.S. viewers(millions)': '4.27[41]'}\n",
      "{'No.overall': '23', 'No. inseason': '3', 'Title': '\"Walk of Punishment\"', 'Directed by': 'David Benioff', 'Written by': 'David Benioff & D. B. Weiss', 'Original air date': 'April\\xa014,\\xa02013\\xa0(2013-04-14)', 'U.S. viewers(millions)': '4.72[42]'}\n",
      "{'No.overall': '24', 'No. inseason': '4', 'Title': '\"And Now His Watch Is Ended\"', 'Directed by': 'Alex Graves', 'Written by': 'David Benioff & D. B. Weiss', 'Original air date': 'April\\xa021,\\xa02013\\xa0(2013-04-21)', 'U.S. viewers(millions)': '4.87[43]'}\n",
      "{'No.overall': '25', 'No. inseason': '5', 'Title': '\"Kissed by Fire\"', 'Directed by': 'Alex Graves', 'Written by': 'Bryan Cogman', 'Original air date': 'April\\xa028,\\xa02013\\xa0(2013-04-28)', 'U.S. viewers(millions)': '5.35[44]'}\n",
      "{'No.overall': '26', 'No. inseason': '6', 'Title': '\"The Climb\"', 'Directed by': 'Alik Sakharov', 'Written by': 'David Benioff & D. B. Weiss', 'Original air date': 'May\\xa05,\\xa02013\\xa0(2013-05-05)', 'U.S. viewers(millions)': '5.50[45]'}\n",
      "{'No.overall': '27', 'No. inseason': '7', 'Title': '\"The Bear and the Maiden Fair\"', 'Directed by': 'Michelle MacLaren', 'Written by': 'George R. R. Martin', 'Original air date': 'May\\xa012,\\xa02013\\xa0(2013-05-12)', 'U.S. viewers(millions)': '4.84[46]'}\n",
      "{'No.overall': '28', 'No. inseason': '8', 'Title': '\"Second Sons\"', 'Directed by': 'Michelle MacLaren', 'Written by': 'David Benioff & D. B. Weiss', 'Original air date': 'May\\xa019,\\xa02013\\xa0(2013-05-19)', 'U.S. viewers(millions)': '5.13[47]'}\n",
      "{'No.overall': '29', 'No. inseason': '9', 'Title': '\"The Rains of Castamere\"', 'Directed by': 'David Nutter', 'Written by': 'David Benioff & D. B. Weiss', 'Original air date': 'June\\xa02,\\xa02013\\xa0(2013-06-02)', 'U.S. viewers(millions)': '5.22[48]'}\n",
      "{'No.overall': '30', 'No. inseason': '10', 'Title': '\"Mhysa\"', 'Directed by': 'David Nutter', 'Written by': 'David Benioff & D. B. Weiss', 'Original air date': 'June\\xa09,\\xa02013\\xa0(2013-06-09)', 'U.S. viewers(millions)': '5.39[49]'}\n",
      "{'No.overall': '31', 'No. inseason': '1', 'Title': '\"Two Swords\"', 'Directed by': 'D. B. Weiss', 'Written by': 'David Benioff & D. B. Weiss', 'Original air date': 'April\\xa06,\\xa02014\\xa0(2014-04-06)', 'U.S. viewers(millions)': '6.64[50]'}\n",
      "{'No.overall': '32', 'No. inseason': '2', 'Title': '\"The Lion and the Rose\"', 'Directed by': 'Alex Graves', 'Written by': 'George R. R. Martin', 'Original air date': 'April\\xa013,\\xa02014\\xa0(2014-04-13)', 'U.S. viewers(millions)': '6.31[51]'}\n",
      "{'No.overall': '33', 'No. inseason': '3', 'Title': '\"Breaker of Chains\"', 'Directed by': 'Alex Graves', 'Written by': 'David Benioff & D. B. Weiss', 'Original air date': 'April\\xa020,\\xa02014\\xa0(2014-04-20)', 'U.S. viewers(millions)': '6.59[52]'}\n",
      "{'No.overall': '34', 'No. inseason': '4', 'Title': '\"Oathkeeper\"', 'Directed by': 'Michelle MacLaren', 'Written by': 'Bryan Cogman', 'Original air date': 'April\\xa027,\\xa02014\\xa0(2014-04-27)', 'U.S. viewers(millions)': '6.95[53]'}\n",
      "{'No.overall': '35', 'No. inseason': '5', 'Title': '\"First of His Name\"', 'Directed by': 'Michelle MacLaren', 'Written by': 'David Benioff & D. B. Weiss', 'Original air date': 'May\\xa04,\\xa02014\\xa0(2014-05-04)', 'U.S. viewers(millions)': '7.16[54]'}\n",
      "{'No.overall': '36', 'No. inseason': '6', 'Title': '\"The Laws of Gods and Men\"', 'Directed by': 'Alik Sakharov', 'Written by': 'Bryan Cogman', 'Original air date': 'May\\xa011,\\xa02014\\xa0(2014-05-11)', 'U.S. viewers(millions)': '6.40[55]'}\n",
      "{'No.overall': '37', 'No. inseason': '7', 'Title': '\"Mockingbird\"', 'Directed by': 'Alik Sakharov', 'Written by': 'David Benioff & D. B. Weiss', 'Original air date': 'May\\xa018,\\xa02014\\xa0(2014-05-18)', 'U.S. viewers(millions)': '7.20[56]'}\n",
      "{'No.overall': '38', 'No. inseason': '8', 'Title': '\"The Mountain and the Viper\"', 'Directed by': 'Alex Graves', 'Written by': 'David Benioff & D. B. Weiss', 'Original air date': 'June\\xa01,\\xa02014\\xa0(2014-06-01)', 'U.S. viewers(millions)': '7.17[57]'}\n",
      "{'No.overall': '39', 'No. inseason': '9', 'Title': '\"The Watchers on the Wall\"', 'Directed by': 'Neil Marshall', 'Written by': 'David Benioff & D. B. Weiss', 'Original air date': 'June\\xa08,\\xa02014\\xa0(2014-06-08)', 'U.S. viewers(millions)': '6.95[58]'}\n",
      "{'No.overall': '40', 'No. inseason': '10', 'Title': '\"The Children\"', 'Directed by': 'Alex Graves', 'Written by': 'David Benioff & D. B. Weiss', 'Original air date': 'June\\xa015,\\xa02014\\xa0(2014-06-15)', 'U.S. viewers(millions)': '7.09[59]'}\n",
      "{'No.overall': '41', 'No. inseason': '1', 'Title': '\"The Wars to Come\"', 'Directed by': 'Michael Slovis', 'Written by': 'David Benioff & D. B. Weiss', 'Original air date': 'April\\xa012,\\xa02015\\xa0(2015-04-12)', 'U.S. viewers(millions)': '8.00[60]'}\n",
      "{'No.overall': '42', 'No. inseason': '2', 'Title': '\"The House of Black and White\"', 'Directed by': 'Michael Slovis', 'Written by': 'David Benioff & D. B. Weiss', 'Original air date': 'April\\xa019,\\xa02015\\xa0(2015-04-19)', 'U.S. viewers(millions)': '6.81[61]'}\n",
      "{'No.overall': '43', 'No. inseason': '3', 'Title': '\"High Sparrow\"', 'Directed by': 'Mark Mylod', 'Written by': 'David Benioff & D. B. Weiss', 'Original air date': 'April\\xa026,\\xa02015\\xa0(2015-04-26)', 'U.S. viewers(millions)': '6.71[62]'}\n",
      "{'No.overall': '44', 'No. inseason': '4', 'Title': '\"Sons of the Harpy\"', 'Directed by': 'Mark Mylod', 'Written by': 'Dave Hill', 'Original air date': 'May\\xa03,\\xa02015\\xa0(2015-05-03)', 'U.S. viewers(millions)': '6.82[63]'}\n",
      "{'No.overall': '45', 'No. inseason': '5', 'Title': '\"Kill the Boy\"', 'Directed by': 'Jeremy Podeswa', 'Written by': 'Bryan Cogman', 'Original air date': 'May\\xa010,\\xa02015\\xa0(2015-05-10)', 'U.S. viewers(millions)': '6.56[64]'}\n",
      "{'No.overall': '46', 'No. inseason': '6', 'Title': '\"Unbowed, Unbent, Unbroken\"', 'Directed by': 'Jeremy Podeswa', 'Written by': 'Bryan Cogman', 'Original air date': 'May\\xa017,\\xa02015\\xa0(2015-05-17)', 'U.S. viewers(millions)': '6.24[65]'}\n",
      "{'No.overall': '47', 'No. inseason': '7', 'Title': '\"The Gift\"', 'Directed by': 'Miguel Sapochnik', 'Written by': 'David Benioff & D. B. Weiss', 'Original air date': 'May\\xa024,\\xa02015\\xa0(2015-05-24)', 'U.S. viewers(millions)': '5.40[66]'}\n",
      "{'No.overall': '48', 'No. inseason': '8', 'Title': '\"Hardhome\"', 'Directed by': 'Miguel Sapochnik', 'Written by': 'David Benioff & D. B. Weiss', 'Original air date': 'May\\xa031,\\xa02015\\xa0(2015-05-31)', 'U.S. viewers(millions)': '7.01[67]'}\n",
      "{'No.overall': '49', 'No. inseason': '9', 'Title': '\"The Dance of Dragons\"', 'Directed by': 'David Nutter', 'Written by': 'David Benioff & D. B. Weiss', 'Original air date': 'June\\xa07,\\xa02015\\xa0(2015-06-07)', 'U.S. viewers(millions)': '7.14[68]'}\n",
      "{'No.overall': '50', 'No. inseason': '10', 'Title': '\"Mother\\'s Mercy\"', 'Directed by': 'David Nutter', 'Written by': 'David Benioff & D. B. Weiss', 'Original air date': 'June\\xa014,\\xa02015\\xa0(2015-06-14)', 'U.S. viewers(millions)': '8.11[69]'}\n",
      "{'No.overall': '51', 'No. inseason': '1', 'Title': '\"The Red Woman\"', 'Directed by': 'Jeremy Podeswa', 'Written by': 'David Benioff & D. B. Weiss', 'Original air date': 'April\\xa024,\\xa02016\\xa0(2016-04-24)', 'U.S. viewers(millions)': '7.94[70]'}\n",
      "{'No.overall': '52', 'No. inseason': '2', 'Title': '\"Home\"', 'Directed by': 'Jeremy Podeswa', 'Written by': 'Dave Hill', 'Original air date': 'May\\xa01,\\xa02016\\xa0(2016-05-01)', 'U.S. viewers(millions)': '7.29[71]'}\n",
      "{'No.overall': '53', 'No. inseason': '3', 'Title': '\"Oathbreaker\"', 'Directed by': 'Daniel Sackheim', 'Written by': 'David Benioff & D. B. Weiss', 'Original air date': 'May\\xa08,\\xa02016\\xa0(2016-05-08)', 'U.S. viewers(millions)': '7.28[72]'}\n",
      "{'No.overall': '54', 'No. inseason': '4', 'Title': '\"Book of the Stranger\"', 'Directed by': 'Daniel Sackheim', 'Written by': 'David Benioff & D. B. Weiss', 'Original air date': 'May\\xa015,\\xa02016\\xa0(2016-05-15)', 'U.S. viewers(millions)': '7.82[73]'}\n",
      "{'No.overall': '55', 'No. inseason': '5', 'Title': '\"The Door\"', 'Directed by': 'Jack Bender', 'Written by': 'David Benioff & D. B. Weiss', 'Original air date': 'May\\xa022,\\xa02016\\xa0(2016-05-22)', 'U.S. viewers(millions)': '7.89[74]'}\n",
      "{'No.overall': '56', 'No. inseason': '6', 'Title': '\"Blood of My Blood\"', 'Directed by': 'Jack Bender', 'Written by': 'Bryan Cogman', 'Original air date': 'May\\xa029,\\xa02016\\xa0(2016-05-29)', 'U.S. viewers(millions)': '6.71[75]'}\n",
      "{'No.overall': '57', 'No. inseason': '7', 'Title': '\"The Broken Man\"', 'Directed by': 'Mark Mylod', 'Written by': 'Bryan Cogman', 'Original air date': 'June\\xa05,\\xa02016\\xa0(2016-06-05)', 'U.S. viewers(millions)': '7.80[76]'}\n",
      "{'No.overall': '58', 'No. inseason': '8', 'Title': '\"No One\"', 'Directed by': 'Mark Mylod', 'Written by': 'David Benioff & D. B. Weiss', 'Original air date': 'June\\xa012,\\xa02016\\xa0(2016-06-12)', 'U.S. viewers(millions)': '7.60[77]'}\n",
      "{'No.overall': '59', 'No. inseason': '9', 'Title': '\"Battle of the Bastards\"', 'Directed by': 'Miguel Sapochnik', 'Written by': 'David Benioff & D. B. Weiss', 'Original air date': 'June\\xa019,\\xa02016\\xa0(2016-06-19)', 'U.S. viewers(millions)': '7.66[78]'}\n",
      "{'No.overall': '60', 'No. inseason': '10', 'Title': '\"The Winds of Winter\"', 'Directed by': 'Miguel Sapochnik', 'Written by': 'David Benioff & D. B. Weiss', 'Original air date': 'June\\xa026,\\xa02016\\xa0(2016-06-26)', 'U.S. viewers(millions)': '8.89[79]'}\n",
      "{'No.overall': '61', 'No. inseason': '1', 'Title': '\"Dragonstone\"', 'Directed by': 'Jeremy Podeswa', 'Written by': 'David Benioff & D. B. Weiss', 'Original air date': 'July\\xa016,\\xa02017\\xa0(2017-07-16)', 'U.S. viewers(millions)': '10.11[80]'}\n",
      "{'No.overall': '62', 'No. inseason': '2', 'Title': '\"Stormborn\"', 'Directed by': 'Mark Mylod', 'Written by': 'Bryan Cogman', 'Original air date': 'July\\xa023,\\xa02017\\xa0(2017-07-23)', 'U.S. viewers(millions)': '9.27[81]'}\n",
      "{'No.overall': '63', 'No. inseason': '3', 'Title': '\"The Queen\\'s Justice\"', 'Directed by': 'Mark Mylod', 'Written by': 'David Benioff & D. B. Weiss', 'Original air date': 'July\\xa030,\\xa02017\\xa0(2017-07-30)', 'U.S. viewers(millions)': '9.25[82]'}\n",
      "{'No.overall': '64', 'No. inseason': '4', 'Title': '\"The Spoils of War\"', 'Directed by': 'Matt Shakman', 'Written by': 'David Benioff & D. B. Weiss', 'Original air date': 'August\\xa06,\\xa02017\\xa0(2017-08-06)', 'U.S. viewers(millions)': '10.17[83]'}\n",
      "{'No.overall': '65', 'No. inseason': '5', 'Title': '\"Eastwatch\"', 'Directed by': 'Matt Shakman', 'Written by': 'Dave Hill', 'Original air date': 'August\\xa013,\\xa02017\\xa0(2017-08-13)', 'U.S. viewers(millions)': '10.72[84]'}\n",
      "{'No.overall': '66', 'No. inseason': '6', 'Title': '\"Beyond the Wall\"', 'Directed by': 'Alan Taylor', 'Written by': 'David Benioff & D. B. Weiss', 'Original air date': 'August\\xa020,\\xa02017\\xa0(2017-08-20)', 'U.S. viewers(millions)': '10.24[85]'}\n",
      "{'No.overall': '67', 'No. inseason': '7', 'Title': '\"The Dragon and the Wolf\"', 'Directed by': 'Jeremy Podeswa', 'Written by': 'David Benioff & D. B. Weiss', 'Original air date': 'August\\xa027,\\xa02017\\xa0(2017-08-27)', 'U.S. viewers(millions)': '12.07[86]'}\n",
      "{'No.overall': '1', 'No. inseason': '1', 'Title': '\"Winter Is Coming\"', 'Directed by': 'Tim Van Patten', 'Written by': 'David Benioff & D. B. Weiss', 'Original air date': 'April\\xa017,\\xa02011\\xa0(2011-04-17)', 'U.S. viewers(millions)': '2.22[20]'}\n",
      "{'No.overall': '2', 'No. inseason': '2', 'Title': '\"The Kingsroad\"', 'Directed by': 'Tim Van Patten', 'Written by': 'David Benioff & D. B. Weiss', 'Original air date': 'April\\xa024,\\xa02011\\xa0(2011-04-24)', 'U.S. viewers(millions)': '2.20[21]'}\n",
      "{'No.overall': '3', 'No. inseason': '3', 'Title': '\"Lord Snow\"', 'Directed by': 'Brian Kirk', 'Written by': 'David Benioff & D. B. Weiss', 'Original air date': 'May\\xa01,\\xa02011\\xa0(2011-05-01)', 'U.S. viewers(millions)': '2.44[22]'}\n",
      "{'No.overall': '4', 'No. inseason': '4', 'Title': '\"Cripples, Bastards, and Broken Things\"', 'Directed by': 'Brian Kirk', 'Written by': 'Bryan Cogman', 'Original air date': 'May\\xa08,\\xa02011\\xa0(2011-05-08)', 'U.S. viewers(millions)': '2.45[23]'}\n",
      "{'No.overall': '5', 'No. inseason': '5', 'Title': '\"The Wolf and the Lion\"', 'Directed by': 'Brian Kirk', 'Written by': 'David Benioff & D. B. Weiss', 'Original air date': 'May\\xa015,\\xa02011\\xa0(2011-05-15)', 'U.S. viewers(millions)': '2.58[24]'}\n",
      "{'No.overall': '6', 'No. inseason': '6', 'Title': '\"A Golden Crown\"', 'Directed by': 'Daniel Minahan', 'Written by': 'Story by\\u200a: David Benioff & D. B. Weiss Teleplay by\\u200a: Jane Espenson and David Benioff & D. B. Weiss', 'Original air date': 'May\\xa022,\\xa02011\\xa0(2011-05-22)', 'U.S. viewers(millions)': '2.44[25]'}\n",
      "{'No.overall': '7', 'No. inseason': '7', 'Title': '\"You Win or You Die\"', 'Directed by': 'Daniel Minahan', 'Written by': 'David Benioff & D. B. Weiss', 'Original air date': 'May\\xa029,\\xa02011\\xa0(2011-05-29)', 'U.S. viewers(millions)': '2.40[26]'}\n",
      "{'No.overall': '8', 'No. inseason': '8', 'Title': '\"The Pointy End\"', 'Directed by': 'Daniel Minahan', 'Written by': 'George R. R. Martin', 'Original air date': 'June\\xa05,\\xa02011\\xa0(2011-06-05)', 'U.S. viewers(millions)': '2.72[27]'}\n",
      "{'No.overall': '9', 'No. inseason': '9', 'Title': '\"Baelor\"', 'Directed by': 'Alan Taylor', 'Written by': 'David Benioff & D. B. Weiss', 'Original air date': 'June\\xa012,\\xa02011\\xa0(2011-06-12)', 'U.S. viewers(millions)': '2.66[28]'}\n",
      "{'No.overall': '10', 'No. inseason': '10', 'Title': '\"Fire and Blood\"', 'Directed by': 'Alan Taylor', 'Written by': 'David Benioff & D. B. Weiss', 'Original air date': 'June\\xa019,\\xa02011\\xa0(2011-06-19)', 'U.S. viewers(millions)': '3.04[29]'}\n",
      "{'No.overall': '11', 'No. inseason': '1', 'Title': '\"The North Remembers\"', 'Directed by': 'Alan Taylor', 'Written by': 'David Benioff & D. B. Weiss', 'Original air date': 'April\\xa01,\\xa02012\\xa0(2012-04-01)', 'U.S. viewers(millions)': '3.86[30]'}\n",
      "{'No.overall': '12', 'No. inseason': '2', 'Title': '\"The Night Lands\"', 'Directed by': 'Alan Taylor', 'Written by': 'David Benioff & D. B. Weiss', 'Original air date': 'April\\xa08,\\xa02012\\xa0(2012-04-08)', 'U.S. viewers(millions)': '3.76[31]'}\n",
      "{'No.overall': '13', 'No. inseason': '3', 'Title': '\"What Is Dead May Never Die\"', 'Directed by': 'Alik Sakharov', 'Written by': 'Bryan Cogman', 'Original air date': 'April\\xa015,\\xa02012\\xa0(2012-04-15)', 'U.S. viewers(millions)': '3.77[32]'}\n",
      "{'No.overall': '14', 'No. inseason': '4', 'Title': '\"Garden of Bones\"', 'Directed by': 'David Petrarca', 'Written by': 'Vanessa Taylor', 'Original air date': 'April\\xa022,\\xa02012\\xa0(2012-04-22)', 'U.S. viewers(millions)': '3.65[33]'}\n",
      "{'No.overall': '15', 'No. inseason': '5', 'Title': '\"The Ghost of Harrenhal\"', 'Directed by': 'David Petrarca', 'Written by': 'David Benioff & D. B. Weiss', 'Original air date': 'April\\xa029,\\xa02012\\xa0(2012-04-29)', 'U.S. viewers(millions)': '3.90[34]'}\n",
      "{'No.overall': '16', 'No. inseason': '6', 'Title': '\"The Old Gods and the New\"', 'Directed by': 'David Nutter', 'Written by': 'Vanessa Taylor', 'Original air date': 'May\\xa06,\\xa02012\\xa0(2012-05-06)', 'U.S. viewers(millions)': '3.88[35]'}\n",
      "{'No.overall': '17', 'No. inseason': '7', 'Title': '\"A Man Without Honor\"', 'Directed by': 'David Nutter', 'Written by': 'David Benioff & D. B. Weiss', 'Original air date': 'May\\xa013,\\xa02012\\xa0(2012-05-13)', 'U.S. viewers(millions)': '3.69[36]'}\n",
      "{'No.overall': '18', 'No. inseason': '8', 'Title': '\"The Prince of Winterfell\"', 'Directed by': 'Alan Taylor', 'Written by': 'David Benioff & D. B. Weiss', 'Original air date': 'May\\xa020,\\xa02012\\xa0(2012-05-20)', 'U.S. viewers(millions)': '3.86[37]'}\n",
      "{'No.overall': '19', 'No. inseason': '9', 'Title': '\"Blackwater\"', 'Directed by': 'Neil Marshall', 'Written by': 'George R. R. Martin', 'Original air date': 'May\\xa027,\\xa02012\\xa0(2012-05-27)', 'U.S. viewers(millions)': '3.38[38]'}\n",
      "{'No.overall': '20', 'No. inseason': '10', 'Title': '\"Valar Morghulis\"', 'Directed by': 'Alan Taylor', 'Written by': 'David Benioff & D. B. Weiss', 'Original air date': 'June\\xa03,\\xa02012\\xa0(2012-06-03)', 'U.S. viewers(millions)': '4.20[39]'}\n",
      "{'No.overall': '21', 'No. inseason': '1', 'Title': '\"Valar Dohaeris\"', 'Directed by': 'Daniel Minahan', 'Written by': 'David Benioff & D. B. Weiss', 'Original air date': 'March\\xa031,\\xa02013\\xa0(2013-03-31)', 'U.S. viewers(millions)': '4.37[40]'}\n",
      "{'No.overall': '22', 'No. inseason': '2', 'Title': '\"Dark Wings, Dark Words\"', 'Directed by': 'Daniel Minahan', 'Written by': 'Vanessa Taylor', 'Original air date': 'April\\xa07,\\xa02013\\xa0(2013-04-07)', 'U.S. viewers(millions)': '4.27[41]'}\n",
      "{'No.overall': '23', 'No. inseason': '3', 'Title': '\"Walk of Punishment\"', 'Directed by': 'David Benioff', 'Written by': 'David Benioff & D. B. Weiss', 'Original air date': 'April\\xa014,\\xa02013\\xa0(2013-04-14)', 'U.S. viewers(millions)': '4.72[42]'}\n",
      "{'No.overall': '24', 'No. inseason': '4', 'Title': '\"And Now His Watch Is Ended\"', 'Directed by': 'Alex Graves', 'Written by': 'David Benioff & D. B. Weiss', 'Original air date': 'April\\xa021,\\xa02013\\xa0(2013-04-21)', 'U.S. viewers(millions)': '4.87[43]'}\n",
      "{'No.overall': '25', 'No. inseason': '5', 'Title': '\"Kissed by Fire\"', 'Directed by': 'Alex Graves', 'Written by': 'Bryan Cogman', 'Original air date': 'April\\xa028,\\xa02013\\xa0(2013-04-28)', 'U.S. viewers(millions)': '5.35[44]'}\n",
      "{'No.overall': '26', 'No. inseason': '6', 'Title': '\"The Climb\"', 'Directed by': 'Alik Sakharov', 'Written by': 'David Benioff & D. B. Weiss', 'Original air date': 'May\\xa05,\\xa02013\\xa0(2013-05-05)', 'U.S. viewers(millions)': '5.50[45]'}\n",
      "{'No.overall': '27', 'No. inseason': '7', 'Title': '\"The Bear and the Maiden Fair\"', 'Directed by': 'Michelle MacLaren', 'Written by': 'George R. R. Martin', 'Original air date': 'May\\xa012,\\xa02013\\xa0(2013-05-12)', 'U.S. viewers(millions)': '4.84[46]'}\n",
      "{'No.overall': '28', 'No. inseason': '8', 'Title': '\"Second Sons\"', 'Directed by': 'Michelle MacLaren', 'Written by': 'David Benioff & D. B. Weiss', 'Original air date': 'May\\xa019,\\xa02013\\xa0(2013-05-19)', 'U.S. viewers(millions)': '5.13[47]'}\n",
      "{'No.overall': '29', 'No. inseason': '9', 'Title': '\"The Rains of Castamere\"', 'Directed by': 'David Nutter', 'Written by': 'David Benioff & D. B. Weiss', 'Original air date': 'June\\xa02,\\xa02013\\xa0(2013-06-02)', 'U.S. viewers(millions)': '5.22[48]'}\n",
      "{'No.overall': '30', 'No. inseason': '10', 'Title': '\"Mhysa\"', 'Directed by': 'David Nutter', 'Written by': 'David Benioff & D. B. Weiss', 'Original air date': 'June\\xa09,\\xa02013\\xa0(2013-06-09)', 'U.S. viewers(millions)': '5.39[49]'}\n",
      "{'No.overall': '31', 'No. inseason': '1', 'Title': '\"Two Swords\"', 'Directed by': 'D. B. Weiss', 'Written by': 'David Benioff & D. B. Weiss', 'Original air date': 'April\\xa06,\\xa02014\\xa0(2014-04-06)', 'U.S. viewers(millions)': '6.64[50]'}\n",
      "{'No.overall': '32', 'No. inseason': '2', 'Title': '\"The Lion and the Rose\"', 'Directed by': 'Alex Graves', 'Written by': 'George R. R. Martin', 'Original air date': 'April\\xa013,\\xa02014\\xa0(2014-04-13)', 'U.S. viewers(millions)': '6.31[51]'}\n",
      "{'No.overall': '33', 'No. inseason': '3', 'Title': '\"Breaker of Chains\"', 'Directed by': 'Alex Graves', 'Written by': 'David Benioff & D. B. Weiss', 'Original air date': 'April\\xa020,\\xa02014\\xa0(2014-04-20)', 'U.S. viewers(millions)': '6.59[52]'}\n",
      "{'No.overall': '34', 'No. inseason': '4', 'Title': '\"Oathkeeper\"', 'Directed by': 'Michelle MacLaren', 'Written by': 'Bryan Cogman', 'Original air date': 'April\\xa027,\\xa02014\\xa0(2014-04-27)', 'U.S. viewers(millions)': '6.95[53]'}\n",
      "{'No.overall': '35', 'No. inseason': '5', 'Title': '\"First of His Name\"', 'Directed by': 'Michelle MacLaren', 'Written by': 'David Benioff & D. B. Weiss', 'Original air date': 'May\\xa04,\\xa02014\\xa0(2014-05-04)', 'U.S. viewers(millions)': '7.16[54]'}\n",
      "{'No.overall': '36', 'No. inseason': '6', 'Title': '\"The Laws of Gods and Men\"', 'Directed by': 'Alik Sakharov', 'Written by': 'Bryan Cogman', 'Original air date': 'May\\xa011,\\xa02014\\xa0(2014-05-11)', 'U.S. viewers(millions)': '6.40[55]'}\n",
      "{'No.overall': '37', 'No. inseason': '7', 'Title': '\"Mockingbird\"', 'Directed by': 'Alik Sakharov', 'Written by': 'David Benioff & D. B. Weiss', 'Original air date': 'May\\xa018,\\xa02014\\xa0(2014-05-18)', 'U.S. viewers(millions)': '7.20[56]'}\n",
      "{'No.overall': '38', 'No. inseason': '8', 'Title': '\"The Mountain and the Viper\"', 'Directed by': 'Alex Graves', 'Written by': 'David Benioff & D. B. Weiss', 'Original air date': 'June\\xa01,\\xa02014\\xa0(2014-06-01)', 'U.S. viewers(millions)': '7.17[57]'}\n",
      "{'No.overall': '39', 'No. inseason': '9', 'Title': '\"The Watchers on the Wall\"', 'Directed by': 'Neil Marshall', 'Written by': 'David Benioff & D. B. Weiss', 'Original air date': 'June\\xa08,\\xa02014\\xa0(2014-06-08)', 'U.S. viewers(millions)': '6.95[58]'}\n",
      "{'No.overall': '40', 'No. inseason': '10', 'Title': '\"The Children\"', 'Directed by': 'Alex Graves', 'Written by': 'David Benioff & D. B. Weiss', 'Original air date': 'June\\xa015,\\xa02014\\xa0(2014-06-15)', 'U.S. viewers(millions)': '7.09[59]'}\n",
      "{'No.overall': '41', 'No. inseason': '1', 'Title': '\"The Wars to Come\"', 'Directed by': 'Michael Slovis', 'Written by': 'David Benioff & D. B. Weiss', 'Original air date': 'April\\xa012,\\xa02015\\xa0(2015-04-12)', 'U.S. viewers(millions)': '8.00[60]'}\n",
      "{'No.overall': '42', 'No. inseason': '2', 'Title': '\"The House of Black and White\"', 'Directed by': 'Michael Slovis', 'Written by': 'David Benioff & D. B. Weiss', 'Original air date': 'April\\xa019,\\xa02015\\xa0(2015-04-19)', 'U.S. viewers(millions)': '6.81[61]'}\n",
      "{'No.overall': '43', 'No. inseason': '3', 'Title': '\"High Sparrow\"', 'Directed by': 'Mark Mylod', 'Written by': 'David Benioff & D. B. Weiss', 'Original air date': 'April\\xa026,\\xa02015\\xa0(2015-04-26)', 'U.S. viewers(millions)': '6.71[62]'}\n",
      "{'No.overall': '44', 'No. inseason': '4', 'Title': '\"Sons of the Harpy\"', 'Directed by': 'Mark Mylod', 'Written by': 'Dave Hill', 'Original air date': 'May\\xa03,\\xa02015\\xa0(2015-05-03)', 'U.S. viewers(millions)': '6.82[63]'}\n",
      "{'No.overall': '45', 'No. inseason': '5', 'Title': '\"Kill the Boy\"', 'Directed by': 'Jeremy Podeswa', 'Written by': 'Bryan Cogman', 'Original air date': 'May\\xa010,\\xa02015\\xa0(2015-05-10)', 'U.S. viewers(millions)': '6.56[64]'}\n",
      "{'No.overall': '46', 'No. inseason': '6', 'Title': '\"Unbowed, Unbent, Unbroken\"', 'Directed by': 'Jeremy Podeswa', 'Written by': 'Bryan Cogman', 'Original air date': 'May\\xa017,\\xa02015\\xa0(2015-05-17)', 'U.S. viewers(millions)': '6.24[65]'}\n",
      "{'No.overall': '47', 'No. inseason': '7', 'Title': '\"The Gift\"', 'Directed by': 'Miguel Sapochnik', 'Written by': 'David Benioff & D. B. Weiss', 'Original air date': 'May\\xa024,\\xa02015\\xa0(2015-05-24)', 'U.S. viewers(millions)': '5.40[66]'}\n",
      "{'No.overall': '48', 'No. inseason': '8', 'Title': '\"Hardhome\"', 'Directed by': 'Miguel Sapochnik', 'Written by': 'David Benioff & D. B. Weiss', 'Original air date': 'May\\xa031,\\xa02015\\xa0(2015-05-31)', 'U.S. viewers(millions)': '7.01[67]'}\n",
      "{'No.overall': '49', 'No. inseason': '9', 'Title': '\"The Dance of Dragons\"', 'Directed by': 'David Nutter', 'Written by': 'David Benioff & D. B. Weiss', 'Original air date': 'June\\xa07,\\xa02015\\xa0(2015-06-07)', 'U.S. viewers(millions)': '7.14[68]'}\n",
      "{'No.overall': '50', 'No. inseason': '10', 'Title': '\"Mother\\'s Mercy\"', 'Directed by': 'David Nutter', 'Written by': 'David Benioff & D. B. Weiss', 'Original air date': 'June\\xa014,\\xa02015\\xa0(2015-06-14)', 'U.S. viewers(millions)': '8.11[69]'}\n",
      "{'No.overall': '51', 'No. inseason': '1', 'Title': '\"The Red Woman\"', 'Directed by': 'Jeremy Podeswa', 'Written by': 'David Benioff & D. B. Weiss', 'Original air date': 'April\\xa024,\\xa02016\\xa0(2016-04-24)', 'U.S. viewers(millions)': '7.94[70]'}\n",
      "{'No.overall': '52', 'No. inseason': '2', 'Title': '\"Home\"', 'Directed by': 'Jeremy Podeswa', 'Written by': 'Dave Hill', 'Original air date': 'May\\xa01,\\xa02016\\xa0(2016-05-01)', 'U.S. viewers(millions)': '7.29[71]'}\n",
      "{'No.overall': '53', 'No. inseason': '3', 'Title': '\"Oathbreaker\"', 'Directed by': 'Daniel Sackheim', 'Written by': 'David Benioff & D. B. Weiss', 'Original air date': 'May\\xa08,\\xa02016\\xa0(2016-05-08)', 'U.S. viewers(millions)': '7.28[72]'}\n",
      "{'No.overall': '54', 'No. inseason': '4', 'Title': '\"Book of the Stranger\"', 'Directed by': 'Daniel Sackheim', 'Written by': 'David Benioff & D. B. Weiss', 'Original air date': 'May\\xa015,\\xa02016\\xa0(2016-05-15)', 'U.S. viewers(millions)': '7.82[73]'}\n",
      "{'No.overall': '55', 'No. inseason': '5', 'Title': '\"The Door\"', 'Directed by': 'Jack Bender', 'Written by': 'David Benioff & D. B. Weiss', 'Original air date': 'May\\xa022,\\xa02016\\xa0(2016-05-22)', 'U.S. viewers(millions)': '7.89[74]'}\n",
      "{'No.overall': '56', 'No. inseason': '6', 'Title': '\"Blood of My Blood\"', 'Directed by': 'Jack Bender', 'Written by': 'Bryan Cogman', 'Original air date': 'May\\xa029,\\xa02016\\xa0(2016-05-29)', 'U.S. viewers(millions)': '6.71[75]'}\n",
      "{'No.overall': '57', 'No. inseason': '7', 'Title': '\"The Broken Man\"', 'Directed by': 'Mark Mylod', 'Written by': 'Bryan Cogman', 'Original air date': 'June\\xa05,\\xa02016\\xa0(2016-06-05)', 'U.S. viewers(millions)': '7.80[76]'}\n",
      "{'No.overall': '58', 'No. inseason': '8', 'Title': '\"No One\"', 'Directed by': 'Mark Mylod', 'Written by': 'David Benioff & D. B. Weiss', 'Original air date': 'June\\xa012,\\xa02016\\xa0(2016-06-12)', 'U.S. viewers(millions)': '7.60[77]'}\n",
      "{'No.overall': '59', 'No. inseason': '9', 'Title': '\"Battle of the Bastards\"', 'Directed by': 'Miguel Sapochnik', 'Written by': 'David Benioff & D. B. Weiss', 'Original air date': 'June\\xa019,\\xa02016\\xa0(2016-06-19)', 'U.S. viewers(millions)': '7.66[78]'}\n",
      "{'No.overall': '60', 'No. inseason': '10', 'Title': '\"The Winds of Winter\"', 'Directed by': 'Miguel Sapochnik', 'Written by': 'David Benioff & D. B. Weiss', 'Original air date': 'June\\xa026,\\xa02016\\xa0(2016-06-26)', 'U.S. viewers(millions)': '8.89[79]'}\n",
      "{'No.overall': '61', 'No. inseason': '1', 'Title': '\"Dragonstone\"', 'Directed by': 'Jeremy Podeswa', 'Written by': 'David Benioff & D. B. Weiss', 'Original air date': 'July\\xa016,\\xa02017\\xa0(2017-07-16)', 'U.S. viewers(millions)': '10.11[80]'}\n",
      "{'No.overall': '62', 'No. inseason': '2', 'Title': '\"Stormborn\"', 'Directed by': 'Mark Mylod', 'Written by': 'Bryan Cogman', 'Original air date': 'July\\xa023,\\xa02017\\xa0(2017-07-23)', 'U.S. viewers(millions)': '9.27[81]'}\n",
      "{'No.overall': '63', 'No. inseason': '3', 'Title': '\"The Queen\\'s Justice\"', 'Directed by': 'Mark Mylod', 'Written by': 'David Benioff & D. B. Weiss', 'Original air date': 'July\\xa030,\\xa02017\\xa0(2017-07-30)', 'U.S. viewers(millions)': '9.25[82]'}\n",
      "{'No.overall': '64', 'No. inseason': '4', 'Title': '\"The Spoils of War\"', 'Directed by': 'Matt Shakman', 'Written by': 'David Benioff & D. B. Weiss', 'Original air date': 'August\\xa06,\\xa02017\\xa0(2017-08-06)', 'U.S. viewers(millions)': '10.17[83]'}\n",
      "{'No.overall': '65', 'No. inseason': '5', 'Title': '\"Eastwatch\"', 'Directed by': 'Matt Shakman', 'Written by': 'Dave Hill', 'Original air date': 'August\\xa013,\\xa02017\\xa0(2017-08-13)', 'U.S. viewers(millions)': '10.72[84]'}\n",
      "{'No.overall': '66', 'No. inseason': '6', 'Title': '\"Beyond the Wall\"', 'Directed by': 'Alan Taylor', 'Written by': 'David Benioff & D. B. Weiss', 'Original air date': 'August\\xa020,\\xa02017\\xa0(2017-08-20)', 'U.S. viewers(millions)': '10.24[85]'}\n",
      "{'No.overall': '67', 'No. inseason': '7', 'Title': '\"The Dragon and the Wolf\"', 'Directed by': 'Jeremy Podeswa', 'Written by': 'David Benioff & D. B. Weiss', 'Original air date': 'August\\xa027,\\xa02017\\xa0(2017-08-27)', 'U.S. viewers(millions)': '12.07[86]'}\n",
      "{'No.overall': '1', 'No. inseason': '1', 'Title': '\"Winter Is Coming\"', 'Directed by': 'Tim Van Patten', 'Written by': 'David Benioff & D. B. Weiss', 'Original air date': 'April\\xa017,\\xa02011\\xa0(2011-04-17)', 'U.S. viewers(millions)': '2.22[20]'}\n",
      "{'No.overall': '2', 'No. inseason': '2', 'Title': '\"The Kingsroad\"', 'Directed by': 'Tim Van Patten', 'Written by': 'David Benioff & D. B. Weiss', 'Original air date': 'April\\xa024,\\xa02011\\xa0(2011-04-24)', 'U.S. viewers(millions)': '2.20[21]'}\n",
      "{'No.overall': '3', 'No. inseason': '3', 'Title': '\"Lord Snow\"', 'Directed by': 'Brian Kirk', 'Written by': 'David Benioff & D. B. Weiss', 'Original air date': 'May\\xa01,\\xa02011\\xa0(2011-05-01)', 'U.S. viewers(millions)': '2.44[22]'}\n",
      "{'No.overall': '4', 'No. inseason': '4', 'Title': '\"Cripples, Bastards, and Broken Things\"', 'Directed by': 'Brian Kirk', 'Written by': 'Bryan Cogman', 'Original air date': 'May\\xa08,\\xa02011\\xa0(2011-05-08)', 'U.S. viewers(millions)': '2.45[23]'}\n",
      "{'No.overall': '5', 'No. inseason': '5', 'Title': '\"The Wolf and the Lion\"', 'Directed by': 'Brian Kirk', 'Written by': 'David Benioff & D. B. Weiss', 'Original air date': 'May\\xa015,\\xa02011\\xa0(2011-05-15)', 'U.S. viewers(millions)': '2.58[24]'}\n",
      "{'No.overall': '6', 'No. inseason': '6', 'Title': '\"A Golden Crown\"', 'Directed by': 'Daniel Minahan', 'Written by': 'Story by\\u200a: David Benioff & D. B. Weiss Teleplay by\\u200a: Jane Espenson and David Benioff & D. B. Weiss', 'Original air date': 'May\\xa022,\\xa02011\\xa0(2011-05-22)', 'U.S. viewers(millions)': '2.44[25]'}\n",
      "{'No.overall': '7', 'No. inseason': '7', 'Title': '\"You Win or You Die\"', 'Directed by': 'Daniel Minahan', 'Written by': 'David Benioff & D. B. Weiss', 'Original air date': 'May\\xa029,\\xa02011\\xa0(2011-05-29)', 'U.S. viewers(millions)': '2.40[26]'}\n",
      "{'No.overall': '8', 'No. inseason': '8', 'Title': '\"The Pointy End\"', 'Directed by': 'Daniel Minahan', 'Written by': 'George R. R. Martin', 'Original air date': 'June\\xa05,\\xa02011\\xa0(2011-06-05)', 'U.S. viewers(millions)': '2.72[27]'}\n",
      "{'No.overall': '9', 'No. inseason': '9', 'Title': '\"Baelor\"', 'Directed by': 'Alan Taylor', 'Written by': 'David Benioff & D. B. Weiss', 'Original air date': 'June\\xa012,\\xa02011\\xa0(2011-06-12)', 'U.S. viewers(millions)': '2.66[28]'}\n",
      "{'No.overall': '10', 'No. inseason': '10', 'Title': '\"Fire and Blood\"', 'Directed by': 'Alan Taylor', 'Written by': 'David Benioff & D. B. Weiss', 'Original air date': 'June\\xa019,\\xa02011\\xa0(2011-06-19)', 'U.S. viewers(millions)': '3.04[29]'}\n",
      "{'No.overall': '11', 'No. inseason': '1', 'Title': '\"The North Remembers\"', 'Directed by': 'Alan Taylor', 'Written by': 'David Benioff & D. B. Weiss', 'Original air date': 'April\\xa01,\\xa02012\\xa0(2012-04-01)', 'U.S. viewers(millions)': '3.86[30]'}\n",
      "{'No.overall': '12', 'No. inseason': '2', 'Title': '\"The Night Lands\"', 'Directed by': 'Alan Taylor', 'Written by': 'David Benioff & D. B. Weiss', 'Original air date': 'April\\xa08,\\xa02012\\xa0(2012-04-08)', 'U.S. viewers(millions)': '3.76[31]'}\n",
      "{'No.overall': '13', 'No. inseason': '3', 'Title': '\"What Is Dead May Never Die\"', 'Directed by': 'Alik Sakharov', 'Written by': 'Bryan Cogman', 'Original air date': 'April\\xa015,\\xa02012\\xa0(2012-04-15)', 'U.S. viewers(millions)': '3.77[32]'}\n",
      "{'No.overall': '14', 'No. inseason': '4', 'Title': '\"Garden of Bones\"', 'Directed by': 'David Petrarca', 'Written by': 'Vanessa Taylor', 'Original air date': 'April\\xa022,\\xa02012\\xa0(2012-04-22)', 'U.S. viewers(millions)': '3.65[33]'}\n",
      "{'No.overall': '15', 'No. inseason': '5', 'Title': '\"The Ghost of Harrenhal\"', 'Directed by': 'David Petrarca', 'Written by': 'David Benioff & D. B. Weiss', 'Original air date': 'April\\xa029,\\xa02012\\xa0(2012-04-29)', 'U.S. viewers(millions)': '3.90[34]'}\n",
      "{'No.overall': '16', 'No. inseason': '6', 'Title': '\"The Old Gods and the New\"', 'Directed by': 'David Nutter', 'Written by': 'Vanessa Taylor', 'Original air date': 'May\\xa06,\\xa02012\\xa0(2012-05-06)', 'U.S. viewers(millions)': '3.88[35]'}\n",
      "{'No.overall': '17', 'No. inseason': '7', 'Title': '\"A Man Without Honor\"', 'Directed by': 'David Nutter', 'Written by': 'David Benioff & D. B. Weiss', 'Original air date': 'May\\xa013,\\xa02012\\xa0(2012-05-13)', 'U.S. viewers(millions)': '3.69[36]'}\n",
      "{'No.overall': '18', 'No. inseason': '8', 'Title': '\"The Prince of Winterfell\"', 'Directed by': 'Alan Taylor', 'Written by': 'David Benioff & D. B. Weiss', 'Original air date': 'May\\xa020,\\xa02012\\xa0(2012-05-20)', 'U.S. viewers(millions)': '3.86[37]'}\n",
      "{'No.overall': '19', 'No. inseason': '9', 'Title': '\"Blackwater\"', 'Directed by': 'Neil Marshall', 'Written by': 'George R. R. Martin', 'Original air date': 'May\\xa027,\\xa02012\\xa0(2012-05-27)', 'U.S. viewers(millions)': '3.38[38]'}\n",
      "{'No.overall': '20', 'No. inseason': '10', 'Title': '\"Valar Morghulis\"', 'Directed by': 'Alan Taylor', 'Written by': 'David Benioff & D. B. Weiss', 'Original air date': 'June\\xa03,\\xa02012\\xa0(2012-06-03)', 'U.S. viewers(millions)': '4.20[39]'}\n",
      "{'No.overall': '21', 'No. inseason': '1', 'Title': '\"Valar Dohaeris\"', 'Directed by': 'Daniel Minahan', 'Written by': 'David Benioff & D. B. Weiss', 'Original air date': 'March\\xa031,\\xa02013\\xa0(2013-03-31)', 'U.S. viewers(millions)': '4.37[40]'}\n",
      "{'No.overall': '22', 'No. inseason': '2', 'Title': '\"Dark Wings, Dark Words\"', 'Directed by': 'Daniel Minahan', 'Written by': 'Vanessa Taylor', 'Original air date': 'April\\xa07,\\xa02013\\xa0(2013-04-07)', 'U.S. viewers(millions)': '4.27[41]'}\n",
      "{'No.overall': '23', 'No. inseason': '3', 'Title': '\"Walk of Punishment\"', 'Directed by': 'David Benioff', 'Written by': 'David Benioff & D. B. Weiss', 'Original air date': 'April\\xa014,\\xa02013\\xa0(2013-04-14)', 'U.S. viewers(millions)': '4.72[42]'}\n",
      "{'No.overall': '24', 'No. inseason': '4', 'Title': '\"And Now His Watch Is Ended\"', 'Directed by': 'Alex Graves', 'Written by': 'David Benioff & D. B. Weiss', 'Original air date': 'April\\xa021,\\xa02013\\xa0(2013-04-21)', 'U.S. viewers(millions)': '4.87[43]'}\n",
      "{'No.overall': '25', 'No. inseason': '5', 'Title': '\"Kissed by Fire\"', 'Directed by': 'Alex Graves', 'Written by': 'Bryan Cogman', 'Original air date': 'April\\xa028,\\xa02013\\xa0(2013-04-28)', 'U.S. viewers(millions)': '5.35[44]'}\n",
      "{'No.overall': '26', 'No. inseason': '6', 'Title': '\"The Climb\"', 'Directed by': 'Alik Sakharov', 'Written by': 'David Benioff & D. B. Weiss', 'Original air date': 'May\\xa05,\\xa02013\\xa0(2013-05-05)', 'U.S. viewers(millions)': '5.50[45]'}\n",
      "{'No.overall': '27', 'No. inseason': '7', 'Title': '\"The Bear and the Maiden Fair\"', 'Directed by': 'Michelle MacLaren', 'Written by': 'George R. R. Martin', 'Original air date': 'May\\xa012,\\xa02013\\xa0(2013-05-12)', 'U.S. viewers(millions)': '4.84[46]'}\n",
      "{'No.overall': '28', 'No. inseason': '8', 'Title': '\"Second Sons\"', 'Directed by': 'Michelle MacLaren', 'Written by': 'David Benioff & D. B. Weiss', 'Original air date': 'May\\xa019,\\xa02013\\xa0(2013-05-19)', 'U.S. viewers(millions)': '5.13[47]'}\n",
      "{'No.overall': '29', 'No. inseason': '9', 'Title': '\"The Rains of Castamere\"', 'Directed by': 'David Nutter', 'Written by': 'David Benioff & D. B. Weiss', 'Original air date': 'June\\xa02,\\xa02013\\xa0(2013-06-02)', 'U.S. viewers(millions)': '5.22[48]'}\n",
      "{'No.overall': '30', 'No. inseason': '10', 'Title': '\"Mhysa\"', 'Directed by': 'David Nutter', 'Written by': 'David Benioff & D. B. Weiss', 'Original air date': 'June\\xa09,\\xa02013\\xa0(2013-06-09)', 'U.S. viewers(millions)': '5.39[49]'}\n",
      "{'No.overall': '31', 'No. inseason': '1', 'Title': '\"Two Swords\"', 'Directed by': 'D. B. Weiss', 'Written by': 'David Benioff & D. B. Weiss', 'Original air date': 'April\\xa06,\\xa02014\\xa0(2014-04-06)', 'U.S. viewers(millions)': '6.64[50]'}\n",
      "{'No.overall': '32', 'No. inseason': '2', 'Title': '\"The Lion and the Rose\"', 'Directed by': 'Alex Graves', 'Written by': 'George R. R. Martin', 'Original air date': 'April\\xa013,\\xa02014\\xa0(2014-04-13)', 'U.S. viewers(millions)': '6.31[51]'}\n",
      "{'No.overall': '33', 'No. inseason': '3', 'Title': '\"Breaker of Chains\"', 'Directed by': 'Alex Graves', 'Written by': 'David Benioff & D. B. Weiss', 'Original air date': 'April\\xa020,\\xa02014\\xa0(2014-04-20)', 'U.S. viewers(millions)': '6.59[52]'}\n",
      "{'No.overall': '34', 'No. inseason': '4', 'Title': '\"Oathkeeper\"', 'Directed by': 'Michelle MacLaren', 'Written by': 'Bryan Cogman', 'Original air date': 'April\\xa027,\\xa02014\\xa0(2014-04-27)', 'U.S. viewers(millions)': '6.95[53]'}\n",
      "{'No.overall': '35', 'No. inseason': '5', 'Title': '\"First of His Name\"', 'Directed by': 'Michelle MacLaren', 'Written by': 'David Benioff & D. B. Weiss', 'Original air date': 'May\\xa04,\\xa02014\\xa0(2014-05-04)', 'U.S. viewers(millions)': '7.16[54]'}\n",
      "{'No.overall': '36', 'No. inseason': '6', 'Title': '\"The Laws of Gods and Men\"', 'Directed by': 'Alik Sakharov', 'Written by': 'Bryan Cogman', 'Original air date': 'May\\xa011,\\xa02014\\xa0(2014-05-11)', 'U.S. viewers(millions)': '6.40[55]'}\n",
      "{'No.overall': '37', 'No. inseason': '7', 'Title': '\"Mockingbird\"', 'Directed by': 'Alik Sakharov', 'Written by': 'David Benioff & D. B. Weiss', 'Original air date': 'May\\xa018,\\xa02014\\xa0(2014-05-18)', 'U.S. viewers(millions)': '7.20[56]'}\n",
      "{'No.overall': '38', 'No. inseason': '8', 'Title': '\"The Mountain and the Viper\"', 'Directed by': 'Alex Graves', 'Written by': 'David Benioff & D. B. Weiss', 'Original air date': 'June\\xa01,\\xa02014\\xa0(2014-06-01)', 'U.S. viewers(millions)': '7.17[57]'}\n",
      "{'No.overall': '39', 'No. inseason': '9', 'Title': '\"The Watchers on the Wall\"', 'Directed by': 'Neil Marshall', 'Written by': 'David Benioff & D. B. Weiss', 'Original air date': 'June\\xa08,\\xa02014\\xa0(2014-06-08)', 'U.S. viewers(millions)': '6.95[58]'}\n",
      "{'No.overall': '40', 'No. inseason': '10', 'Title': '\"The Children\"', 'Directed by': 'Alex Graves', 'Written by': 'David Benioff & D. B. Weiss', 'Original air date': 'June\\xa015,\\xa02014\\xa0(2014-06-15)', 'U.S. viewers(millions)': '7.09[59]'}\n",
      "{'No.overall': '41', 'No. inseason': '1', 'Title': '\"The Wars to Come\"', 'Directed by': 'Michael Slovis', 'Written by': 'David Benioff & D. B. Weiss', 'Original air date': 'April\\xa012,\\xa02015\\xa0(2015-04-12)', 'U.S. viewers(millions)': '8.00[60]'}\n",
      "{'No.overall': '42', 'No. inseason': '2', 'Title': '\"The House of Black and White\"', 'Directed by': 'Michael Slovis', 'Written by': 'David Benioff & D. B. Weiss', 'Original air date': 'April\\xa019,\\xa02015\\xa0(2015-04-19)', 'U.S. viewers(millions)': '6.81[61]'}\n",
      "{'No.overall': '43', 'No. inseason': '3', 'Title': '\"High Sparrow\"', 'Directed by': 'Mark Mylod', 'Written by': 'David Benioff & D. B. Weiss', 'Original air date': 'April\\xa026,\\xa02015\\xa0(2015-04-26)', 'U.S. viewers(millions)': '6.71[62]'}\n",
      "{'No.overall': '44', 'No. inseason': '4', 'Title': '\"Sons of the Harpy\"', 'Directed by': 'Mark Mylod', 'Written by': 'Dave Hill', 'Original air date': 'May\\xa03,\\xa02015\\xa0(2015-05-03)', 'U.S. viewers(millions)': '6.82[63]'}\n",
      "{'No.overall': '45', 'No. inseason': '5', 'Title': '\"Kill the Boy\"', 'Directed by': 'Jeremy Podeswa', 'Written by': 'Bryan Cogman', 'Original air date': 'May\\xa010,\\xa02015\\xa0(2015-05-10)', 'U.S. viewers(millions)': '6.56[64]'}\n",
      "{'No.overall': '46', 'No. inseason': '6', 'Title': '\"Unbowed, Unbent, Unbroken\"', 'Directed by': 'Jeremy Podeswa', 'Written by': 'Bryan Cogman', 'Original air date': 'May\\xa017,\\xa02015\\xa0(2015-05-17)', 'U.S. viewers(millions)': '6.24[65]'}\n",
      "{'No.overall': '47', 'No. inseason': '7', 'Title': '\"The Gift\"', 'Directed by': 'Miguel Sapochnik', 'Written by': 'David Benioff & D. B. Weiss', 'Original air date': 'May\\xa024,\\xa02015\\xa0(2015-05-24)', 'U.S. viewers(millions)': '5.40[66]'}\n",
      "{'No.overall': '48', 'No. inseason': '8', 'Title': '\"Hardhome\"', 'Directed by': 'Miguel Sapochnik', 'Written by': 'David Benioff & D. B. Weiss', 'Original air date': 'May\\xa031,\\xa02015\\xa0(2015-05-31)', 'U.S. viewers(millions)': '7.01[67]'}\n",
      "{'No.overall': '49', 'No. inseason': '9', 'Title': '\"The Dance of Dragons\"', 'Directed by': 'David Nutter', 'Written by': 'David Benioff & D. B. Weiss', 'Original air date': 'June\\xa07,\\xa02015\\xa0(2015-06-07)', 'U.S. viewers(millions)': '7.14[68]'}\n",
      "{'No.overall': '50', 'No. inseason': '10', 'Title': '\"Mother\\'s Mercy\"', 'Directed by': 'David Nutter', 'Written by': 'David Benioff & D. B. Weiss', 'Original air date': 'June\\xa014,\\xa02015\\xa0(2015-06-14)', 'U.S. viewers(millions)': '8.11[69]'}\n",
      "{'No.overall': '51', 'No. inseason': '1', 'Title': '\"The Red Woman\"', 'Directed by': 'Jeremy Podeswa', 'Written by': 'David Benioff & D. B. Weiss', 'Original air date': 'April\\xa024,\\xa02016\\xa0(2016-04-24)', 'U.S. viewers(millions)': '7.94[70]'}\n",
      "{'No.overall': '52', 'No. inseason': '2', 'Title': '\"Home\"', 'Directed by': 'Jeremy Podeswa', 'Written by': 'Dave Hill', 'Original air date': 'May\\xa01,\\xa02016\\xa0(2016-05-01)', 'U.S. viewers(millions)': '7.29[71]'}\n",
      "{'No.overall': '53', 'No. inseason': '3', 'Title': '\"Oathbreaker\"', 'Directed by': 'Daniel Sackheim', 'Written by': 'David Benioff & D. B. Weiss', 'Original air date': 'May\\xa08,\\xa02016\\xa0(2016-05-08)', 'U.S. viewers(millions)': '7.28[72]'}\n",
      "{'No.overall': '54', 'No. inseason': '4', 'Title': '\"Book of the Stranger\"', 'Directed by': 'Daniel Sackheim', 'Written by': 'David Benioff & D. B. Weiss', 'Original air date': 'May\\xa015,\\xa02016\\xa0(2016-05-15)', 'U.S. viewers(millions)': '7.82[73]'}\n",
      "{'No.overall': '55', 'No. inseason': '5', 'Title': '\"The Door\"', 'Directed by': 'Jack Bender', 'Written by': 'David Benioff & D. B. Weiss', 'Original air date': 'May\\xa022,\\xa02016\\xa0(2016-05-22)', 'U.S. viewers(millions)': '7.89[74]'}\n",
      "{'No.overall': '56', 'No. inseason': '6', 'Title': '\"Blood of My Blood\"', 'Directed by': 'Jack Bender', 'Written by': 'Bryan Cogman', 'Original air date': 'May\\xa029,\\xa02016\\xa0(2016-05-29)', 'U.S. viewers(millions)': '6.71[75]'}\n",
      "{'No.overall': '57', 'No. inseason': '7', 'Title': '\"The Broken Man\"', 'Directed by': 'Mark Mylod', 'Written by': 'Bryan Cogman', 'Original air date': 'June\\xa05,\\xa02016\\xa0(2016-06-05)', 'U.S. viewers(millions)': '7.80[76]'}\n",
      "{'No.overall': '58', 'No. inseason': '8', 'Title': '\"No One\"', 'Directed by': 'Mark Mylod', 'Written by': 'David Benioff & D. B. Weiss', 'Original air date': 'June\\xa012,\\xa02016\\xa0(2016-06-12)', 'U.S. viewers(millions)': '7.60[77]'}\n",
      "{'No.overall': '59', 'No. inseason': '9', 'Title': '\"Battle of the Bastards\"', 'Directed by': 'Miguel Sapochnik', 'Written by': 'David Benioff & D. B. Weiss', 'Original air date': 'June\\xa019,\\xa02016\\xa0(2016-06-19)', 'U.S. viewers(millions)': '7.66[78]'}\n",
      "{'No.overall': '60', 'No. inseason': '10', 'Title': '\"The Winds of Winter\"', 'Directed by': 'Miguel Sapochnik', 'Written by': 'David Benioff & D. B. Weiss', 'Original air date': 'June\\xa026,\\xa02016\\xa0(2016-06-26)', 'U.S. viewers(millions)': '8.89[79]'}\n",
      "{'No.overall': '61', 'No. inseason': '1', 'Title': '\"Dragonstone\"', 'Directed by': 'Jeremy Podeswa', 'Written by': 'David Benioff & D. B. Weiss', 'Original air date': 'July\\xa016,\\xa02017\\xa0(2017-07-16)', 'U.S. viewers(millions)': '10.11[80]'}\n",
      "{'No.overall': '62', 'No. inseason': '2', 'Title': '\"Stormborn\"', 'Directed by': 'Mark Mylod', 'Written by': 'Bryan Cogman', 'Original air date': 'July\\xa023,\\xa02017\\xa0(2017-07-23)', 'U.S. viewers(millions)': '9.27[81]'}\n",
      "{'No.overall': '63', 'No. inseason': '3', 'Title': '\"The Queen\\'s Justice\"', 'Directed by': 'Mark Mylod', 'Written by': 'David Benioff & D. B. Weiss', 'Original air date': 'July\\xa030,\\xa02017\\xa0(2017-07-30)', 'U.S. viewers(millions)': '9.25[82]'}\n",
      "{'No.overall': '64', 'No. inseason': '4', 'Title': '\"The Spoils of War\"', 'Directed by': 'Matt Shakman', 'Written by': 'David Benioff & D. B. Weiss', 'Original air date': 'August\\xa06,\\xa02017\\xa0(2017-08-06)', 'U.S. viewers(millions)': '10.17[83]'}\n",
      "{'No.overall': '65', 'No. inseason': '5', 'Title': '\"Eastwatch\"', 'Directed by': 'Matt Shakman', 'Written by': 'Dave Hill', 'Original air date': 'August\\xa013,\\xa02017\\xa0(2017-08-13)', 'U.S. viewers(millions)': '10.72[84]'}\n",
      "{'No.overall': '66', 'No. inseason': '6', 'Title': '\"Beyond the Wall\"', 'Directed by': 'Alan Taylor', 'Written by': 'David Benioff & D. B. Weiss', 'Original air date': 'August\\xa020,\\xa02017\\xa0(2017-08-20)', 'U.S. viewers(millions)': '10.24[85]'}\n",
      "{'No.overall': '67', 'No. inseason': '7', 'Title': '\"The Dragon and the Wolf\"', 'Directed by': 'Jeremy Podeswa', 'Written by': 'David Benioff & D. B. Weiss', 'Original air date': 'August\\xa027,\\xa02017\\xa0(2017-08-27)', 'U.S. viewers(millions)': '12.07[86]'}\n"
     ]
    }
   ],
   "source": [
    "for table in ep_tables:\n",
    "    headers = []\n",
    "    rows = table.find_all('tr')\n",
    "    # Start by fetching the header cells from the first row to determine\n",
    "    # the field names\n",
    "    for header in table.find('tr').find_all('th'):\n",
    "        headers.append(header.text)\n",
    "     # Then go through all the rows except the first one\n",
    "    for row in table.find_all('tr')[1:]:\n",
    "        values = []    \n",
    "        # And get the column cells, the first one being inside a th-tag\n",
    "        for col in row.find_all(['th','td']):\n",
    "            values.append(col.text)\n",
    "        if values:\n",
    "            episode_dict = {headers[i]: values[i] for i in\n",
    "            range(len(values))}\n",
    "            episodes.append(episode_dict)\n",
    " # Show the results\n",
    "for episode in episodes:\n",
    "    print(episode)           "
   ]
  },
  {
   "cell_type": "code",
   "execution_count": 19,
   "metadata": {},
   "outputs": [
    {
     "name": "stdout",
     "output_type": "stream",
     "text": [
      "<html>\n",
      "\t<body>\n",
      "\n",
      "\n",
      "<h2>Thanks for submitting your information</h2>\n",
      "\n",
      "<p>Here's a dump of the form data that was submitted:</p>\n",
      "\n",
      "<pre>array(5) {\n",
      "  [\"name\"]=>\n",
      "  string(5) \"Seppe\"\n",
      "  [\"gender\"]=>\n",
      "  string(1) \"M\"\n",
      "  [\"pizza\"]=>\n",
      "  string(4) \"like\"\n",
      "  [\"haircolor\"]=>\n",
      "  string(5) \"brown\"\n",
      "  [\"comments\"]=>\n",
      "  string(0) \"\"\n",
      "}\n",
      "</pre>\n",
      "\n",
      "\n",
      "\t</body>\n",
      "</html>\n",
      "\n"
     ]
    }
   ],
   "source": [
    "import requests\n",
    "url = 'http://www.webscrapingfordatascience.com/postform2/'\n",
    "# First perform a GET request\n",
    "r = requests.get(url)\n",
    "# Followed by a POST request\n",
    "formdata = {\n",
    "    'name': 'Seppe',\n",
    "    'gender': 'M',\n",
    "    'pizza': 'like','haircolor': 'brown',\n",
    "    'comments': ''\n",
    "    }\n",
    "r = requests.post(url, data=formdata)\n",
    "print(r.text)"
   ]
  },
  {
   "cell_type": "code",
   "execution_count": 21,
   "metadata": {},
   "outputs": [],
   "source": [
    "url = 'http://www.webscrapingfordatascience.com/postform2/'\n",
    "formdata = {'name': 'Seppe'}\n",
    "filedata = {'profile_picture': open('/home/shashanksoni092/Videos/Screenshots/2018-11-19.png', 'rb')}\n",
    "r = requests.post(url, data=formdata, files=filedata)"
   ]
  },
  {
   "cell_type": "code",
   "execution_count": 22,
   "metadata": {},
   "outputs": [
    {
     "data": {
      "text/plain": [
       "'<html>\\n\\t<body>\\n\\n\\n<h2>Thanks for submitting your information</h2>\\n\\n<p>Here\\'s a dump of the form data that was submitted:</p>\\n\\n<pre>array(1) {\\n  [\"name\"]=>\\n  string(5) \"Seppe\"\\n}\\n</pre>\\n\\n\\n\\t</body>\\n</html>\\n'"
      ]
     },
     "execution_count": 22,
     "metadata": {},
     "output_type": "execute_result"
    }
   ],
   "source": [
    "r.text"
   ]
  },
  {
   "cell_type": "code",
   "execution_count": 23,
   "metadata": {},
   "outputs": [
    {
     "name": "stdout",
     "output_type": "stream",
     "text": [
      "It seems you are using a scraper!\n",
      "{'User-Agent': 'python-requests/2.18.4', 'Accept-Encoding': 'gzip, deflate', 'Accept': '*/*', 'Connection': 'keep-alive'}\n"
     ]
    }
   ],
   "source": [
    "import requests\n",
    "url = 'http://www.webscrapingfordatascience.com/usercheck/'\n",
    "r = requests.get(url)\n",
    "print(r.text)\n",
    "# Shows: It seems you are using a scraper\n",
    "print(r.request.headers)"
   ]
  },
  {
   "cell_type": "code",
   "execution_count": 28,
   "metadata": {},
   "outputs": [
    {
     "name": "stdout",
     "output_type": "stream",
     "text": [
      "Welcome, normal user!\n"
     ]
    }
   ],
   "source": [
    "import requests\n",
    "url = 'http://www.webscrapingfordatascience.com/usercheck/'\n",
    "my_headers = {\n",
    "'User-Agent': 'Mozilla/5.0 (Windows NT 10.0; Win64; x64) AppleWebKit/537.36 ' + ' (KHTML, like Gecko) Chrome/61.0.3163.100 Safari/537.36'\n",
    "}\n",
    "r = requests.get(url, headers=my_headers)\n",
    "print(r.text)"
   ]
  },
  {
   "cell_type": "code",
   "execution_count": 34,
   "metadata": {},
   "outputs": [
    {
     "name": "stdout",
     "output_type": "stream",
     "text": [
      "Hmm... it seems you are not logged in\n"
     ]
    }
   ],
   "source": [
    "import requests\n",
    "url = 'http://www.webscrapingfordatascience.com/cookielogin/secret.php'\n",
    "r = requests.get(url)\n",
    "print(r.text)\n",
    "# Shows: Hmm... it seems you are not logged in"
   ]
  },
  {
   "cell_type": "code",
   "execution_count": 40,
   "metadata": {},
   "outputs": [
    {
     "name": "stdout",
     "output_type": "stream",
     "text": [
      "This is a secret code: 1234\n"
     ]
    }
   ],
   "source": [
    "import requests\n",
    "url = 'http://www.webscrapingfordatascience.com/cookielogin/secret.php'\n",
    "my_cookies = {'PHPSESSID':\"h8rrfof17qc3q6ru55bqag0ui7\"}\n",
    "r = requests.get(url, cookies=my_cookies)\n",
    "print(r.text)\n",
    "# Shows: This is a secret code: 1234\n"
   ]
  },
  {
   "cell_type": "code",
   "execution_count": 43,
   "metadata": {},
   "outputs": [
    {
     "name": "stdout",
     "output_type": "stream",
     "text": [
      "Hmm... it seems you are not logged in\n"
     ]
    }
   ],
   "source": [
    "#Login from login to accessing cookies to secret page\n",
    "import requests\n",
    "url = 'http://www.webscrapingfordatascience.com/redirlogin/'\n",
    "# First perform a POST request\n",
    "r = requests.post(url, data={'username': 'dummy', 'password': '1234'})\n",
    "# Get the cookie value, either from\n",
    "# r.headers or r.cookies print(r.cookies)\n",
    "my_cookies = r.cookies\n",
    "# r.cookies is a RequestsCookieJar object which can also\n",
    "# be accessed like a dictionary. The following also works:\n",
    "my_cookies['PHPSESSID'] = r.cookies.get('PHPSESSID')\n",
    "# Now perform a GET request to the secret page using the cookies\n",
    "r = requests.get(url + 'secret.php', cookies=my_cookies)\n",
    "print(r.text)"
   ]
  },
  {
   "cell_type": "code",
   "execution_count": 45,
   "metadata": {},
   "outputs": [
    {
     "name": "stdout",
     "output_type": "stream",
     "text": [
      "<RequestsCookieJar[<Cookie PHPSESSID=tujohk5jpj9k7i961h6m3n7e34 for www.webscrapingfordatascience.com/>]>\n",
      "This is a secret code: 1234\n"
     ]
    }
   ],
   "source": [
    "import requests\n",
    "url = 'http://www.webscrapingfordatascience.com/cookielogin/'\n",
    "# First perform a POST request -- do not follow the redirect\n",
    "r = requests.post(url, data={'username': 'dummy', 'password': '1234'},\n",
    "                  allow_redirects=False)\n",
    "# Get the cookie value, either from r.headers or r.cookies\n",
    "print(r.cookies)\n",
    "my_cookies = r.cookies\n",
    "# Now perform a GET request manually to the secret page using the cookies\n",
    "r = requests.get(url + 'secret.php', cookies=my_cookies)\n",
    "print(r.text)\n",
    "# Shows: This"
   ]
  },
  {
   "cell_type": "code",
   "execution_count": 46,
   "metadata": {},
   "outputs": [],
   "source": [
    "import requests\n",
    "url = 'http://www.webscrapingfordatascience.com/files/kitten.jpg'\n",
    "r = requests.get(url)\n",
    "with open('image.jpg', 'wb') as my_file:\n",
    "    my_file.write(r.content)"
   ]
  },
  {
   "cell_type": "code",
   "execution_count": 48,
   "metadata": {},
   "outputs": [
    {
     "name": "stdout",
     "output_type": "stream",
     "text": [
      "{'results': [1, 2, 3, 11, 13, 18, 25]}\n",
      "[1, 2, 3, 11, 13, 18, 25]\n"
     ]
    }
   ],
   "source": [
    "import requests\n",
    "url = 'http://www.webscrapingfordatascience.com/jsonajax/results.php'\n",
    "r = requests.post(url, data={'api_code': 'C123456'})\n",
    "print(r.json())\n",
    "print(r.json().get('results'))"
   ]
  },
  {
   "cell_type": "code",
   "execution_count": null,
   "metadata": {},
   "outputs": [],
   "source": []
  }
 ],
 "metadata": {
  "kernelspec": {
   "display_name": "Python 3",
   "language": "python",
   "name": "python3"
  },
  "language_info": {
   "codemirror_mode": {
    "name": "ipython",
    "version": 3
   },
   "file_extension": ".py",
   "mimetype": "text/x-python",
   "name": "python",
   "nbconvert_exporter": "python",
   "pygments_lexer": "ipython3",
   "version": "3.6.5"
  }
 },
 "nbformat": 4,
 "nbformat_minor": 2
}
