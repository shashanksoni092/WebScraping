{
 "cells": [
  {
   "cell_type": "code",
   "execution_count": null,
   "metadata": {},
   "outputs": [],
   "source": [
    "#We gonna scrape IMDB reviews of GameOfThrones\n",
    "#http://www.imdb.com/title/tt0944947/episodes url to scrape"
   ]
  },
  {
   "cell_type": "code",
   "execution_count": null,
   "metadata": {},
   "outputs": [],
   "source": [
    "import requests\n",
    "from bs4 import BeautifulSoup\n",
    "url = 'http://www.imdb.com/title/tt0944947/episodes'\n",
    "episodes = []\n",
    "ratings = []\n",
    "\n",
    "#Iterate over 1 to 7\n",
    "\n",
    "for season in range(1,8):\n",
    "    r=requests.get(url,params={'season':season})\n",
    "    soup=BeautifulSoup(r.text,'html.parser')\n",
    "    main=soup.find('div',class_='eplist')\n",
    "    a_tag=main.find('strong').find('a').get_text(strip='True')\n",
    "    print(a_tag)"
   ]
  },
  {
   "cell_type": "code",
   "execution_count": null,
   "metadata": {},
   "outputs": [],
   "source": []
  }
 ],
 "metadata": {
  "kernelspec": {
   "display_name": "Python 3",
   "language": "python",
   "name": "python3"
  },
  "language_info": {
   "codemirror_mode": {
    "name": "ipython",
    "version": 3
   },
   "file_extension": ".py",
   "mimetype": "text/x-python",
   "name": "python",
   "nbconvert_exporter": "python",
   "pygments_lexer": "ipython3",
   "version": "3.6.5"
  }
 },
 "nbformat": 4,
 "nbformat_minor": 2
}
