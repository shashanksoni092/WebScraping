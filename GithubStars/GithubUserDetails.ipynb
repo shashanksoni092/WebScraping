{
 "cells": [
  {
   "cell_type": "code",
   "execution_count": 8,
   "metadata": {},
   "outputs": [],
   "source": [
    "import requests\n",
    "from bs4 import BeautifulSoup\n",
    "session = requests.Session()\n",
    "url = 'https://github.com/{}'\n",
    "username = 'sankalp7654'\n",
    "# Visit the login page\n",
    "r = session.get(url.format('login'))\n",
    "html_soup = BeautifulSoup(r.text, 'html.parser')"
   ]
  },
  {
   "cell_type": "code",
   "execution_count": 9,
   "metadata": {},
   "outputs": [
    {
     "name": "stdout",
     "output_type": "stream",
     "text": [
      "Going to login with the following POST data:\n",
      "{'utf8': '✓', 'authenticity_token': 'KiSGkGa06WTot8SxC9QEuZN6wABLBmXNpwmoJ+r1yiIBY1CVfh3r7Fr6+g6zmm5mH1FJxRfmI3V8MGgaN9qKJA==', 'login': 'shashanksoni0920@gmail.com', 'password': 'tuesday'}\n",
      "Do you want to login (y/n): y\n",
      "\n",
      "\n",
      "@Aikya-Software-Wing \n",
      "\n",
      "\n",
      "Bangalore\n",
      "\n",
      "\n",
      "Sign in to view email\n",
      "\n",
      "\n",
      "http://sankalpsaxena.com/\n",
      "\n",
      "\n"
     ]
    }
   ],
   "source": [
    "html_soup\n",
    "data = {}\n",
    "for form in html_soup.find_all('form'):\n",
    "    # Get out the hidden form fields\n",
    "    for inp in form.select('input[type=hidden]'):\n",
    "        data[inp.get('name')] = inp.get('value')\n",
    "# SET YOUR LOGIN DETAILS:\n",
    "data.update({'login': 'shashanksoni0920@gmail.com', 'password': 'tuesday'})\n",
    "print('Going to login with the following POST data:')\n",
    "print(data)\n",
    "if input('Do you want to login (y/n): ') == 'y':\n",
    "    # Perform the login\n",
    "    r = session.post(url.format('session'), data=data)\n",
    "    # Get the profile page\n",
    "    r = session.get(url.format(username))\n",
    "    html_soup = BeautifulSoup(r.text, 'html.parser')\n",
    "    user_info = html_soup.find(class_='vcard-details')\n",
    "    print(user_info.text)"
   ]
  },
  {
   "cell_type": "code",
   "execution_count": null,
   "metadata": {},
   "outputs": [],
   "source": []
  }
 ],
 "metadata": {
  "kernelspec": {
   "display_name": "Python 3",
   "language": "python",
   "name": "python3"
  },
  "language_info": {
   "codemirror_mode": {
    "name": "ipython",
    "version": 3
   },
   "file_extension": ".py",
   "mimetype": "text/x-python",
   "name": "python",
   "nbconvert_exporter": "python",
   "pygments_lexer": "ipython3",
   "version": "3.6.5"
  }
 },
 "nbformat": 4,
 "nbformat_minor": 2
}
